{
 "cells": [
  {
   "cell_type": "code",
   "execution_count": 12,
   "id": "67081835-78c6-4500-a4fa-c69d58aa904e",
   "metadata": {},
   "outputs": [
    {
     "name": "stdout",
     "output_type": "stream",
     "text": [
      "-------MENU-------\n",
      "1. ADD CONTACT\n",
      "2. VIEW ALL CONTACTS\n",
      "3. SEARCH CONTACT\n",
      "4. UPDATE CONTACT\n",
      "5. DELETE CONTACT\n",
      "6. EXIT\n",
      "\n"
     ]
    },
    {
     "name": "stdin",
     "output_type": "stream",
     "text": [
      "Enter your choice:  1\n",
      "Enter name:  mallika\n",
      "Enter phone number:  08105887010\n",
      "Enter email:  mallikasathish38@gmail.com\n",
      "Enter address:  domlur\n"
     ]
    },
    {
     "name": "stdout",
     "output_type": "stream",
     "text": [
      "Contact 'mallika' successfully added.\n",
      "-------MENU-------\n",
      "1. ADD CONTACT\n",
      "2. VIEW ALL CONTACTS\n",
      "3. SEARCH CONTACT\n",
      "4. UPDATE CONTACT\n",
      "5. DELETE CONTACT\n",
      "6. EXIT\n",
      "\n"
     ]
    },
    {
     "name": "stdin",
     "output_type": "stream",
     "text": [
      "Enter your choice:  1\n",
      "Enter name:  srishti\n",
      "Enter phone number:  6362\n",
      "Enter email:  srishtikotian12@gmail.com\n",
      "Enter address:  bangalore\n"
     ]
    },
    {
     "name": "stdout",
     "output_type": "stream",
     "text": [
      "Contact 'srishti' successfully added.\n",
      "-------MENU-------\n",
      "1. ADD CONTACT\n",
      "2. VIEW ALL CONTACTS\n",
      "3. SEARCH CONTACT\n",
      "4. UPDATE CONTACT\n",
      "5. DELETE CONTACT\n",
      "6. EXIT\n",
      "\n"
     ]
    },
    {
     "name": "stdin",
     "output_type": "stream",
     "text": [
      "Enter your choice:  2\n"
     ]
    },
    {
     "name": "stdout",
     "output_type": "stream",
     "text": [
      "\n",
      "List of contacts:\n",
      "\n",
      "Name: mallika, Phone: 08105887010, Email: mallikasathish38@gmail.com, Address: domlur\n",
      "Name: srishti, Phone: 6362, Email: srishtikotian12@gmail.com, Address: bangalore\n",
      "-------MENU-------\n",
      "1. ADD CONTACT\n",
      "2. VIEW ALL CONTACTS\n",
      "3. SEARCH CONTACT\n",
      "4. UPDATE CONTACT\n",
      "5. DELETE CONTACT\n",
      "6. EXIT\n",
      "\n"
     ]
    },
    {
     "name": "stdin",
     "output_type": "stream",
     "text": [
      "Enter your choice:  3\n",
      "Enter name:  mallika\n"
     ]
    },
    {
     "name": "stdout",
     "output_type": "stream",
     "text": [
      "\n",
      "Contact found:\n",
      "Name: mallika, Phone: 08105887010, Email: mallikasathish38@gmail.com, Address: domlur\n",
      "-------MENU-------\n",
      "1. ADD CONTACT\n",
      "2. VIEW ALL CONTACTS\n",
      "3. SEARCH CONTACT\n",
      "4. UPDATE CONTACT\n",
      "5. DELETE CONTACT\n",
      "6. EXIT\n",
      "\n"
     ]
    },
    {
     "name": "stdin",
     "output_type": "stream",
     "text": [
      "Enter your choice:  4\n",
      "Enter the name:  srishti\n",
      "Enter phone (press enter to skip):  63\n",
      "Enter email (press enter to skip):  srbs22ainds@cmrit.ac.in\n",
      "Enter address (press enter to skip):  \n"
     ]
    },
    {
     "name": "stdout",
     "output_type": "stream",
     "text": [
      "Contact 'srishti' updated successfully.\n",
      "-------MENU-------\n",
      "1. ADD CONTACT\n",
      "2. VIEW ALL CONTACTS\n",
      "3. SEARCH CONTACT\n",
      "4. UPDATE CONTACT\n",
      "5. DELETE CONTACT\n",
      "6. EXIT\n",
      "\n"
     ]
    },
    {
     "name": "stdin",
     "output_type": "stream",
     "text": [
      "Enter your choice:  2\n"
     ]
    },
    {
     "name": "stdout",
     "output_type": "stream",
     "text": [
      "\n",
      "List of contacts:\n",
      "\n",
      "Name: mallika, Phone: 08105887010, Email: mallikasathish38@gmail.com, Address: domlur\n",
      "Name: srishti, Phone: 63, Email: srbs22ainds@cmrit.ac.in, Address: bangalore\n",
      "-------MENU-------\n",
      "1. ADD CONTACT\n",
      "2. VIEW ALL CONTACTS\n",
      "3. SEARCH CONTACT\n",
      "4. UPDATE CONTACT\n",
      "5. DELETE CONTACT\n",
      "6. EXIT\n",
      "\n"
     ]
    },
    {
     "name": "stdin",
     "output_type": "stream",
     "text": [
      "Enter your choice:  5\n",
      "Enter name:  srishti\n"
     ]
    },
    {
     "name": "stdout",
     "output_type": "stream",
     "text": [
      "Contact 'srishti' deleted successfully.\n",
      "-------MENU-------\n",
      "1. ADD CONTACT\n",
      "2. VIEW ALL CONTACTS\n",
      "3. SEARCH CONTACT\n",
      "4. UPDATE CONTACT\n",
      "5. DELETE CONTACT\n",
      "6. EXIT\n",
      "\n"
     ]
    },
    {
     "name": "stdin",
     "output_type": "stream",
     "text": [
      "Enter your choice:  2\n"
     ]
    },
    {
     "name": "stdout",
     "output_type": "stream",
     "text": [
      "\n",
      "List of contacts:\n",
      "\n",
      "Name: mallika, Phone: 08105887010, Email: mallikasathish38@gmail.com, Address: domlur\n",
      "-------MENU-------\n",
      "1. ADD CONTACT\n",
      "2. VIEW ALL CONTACTS\n",
      "3. SEARCH CONTACT\n",
      "4. UPDATE CONTACT\n",
      "5. DELETE CONTACT\n",
      "6. EXIT\n",
      "\n"
     ]
    },
    {
     "name": "stdin",
     "output_type": "stream",
     "text": [
      "Enter your choice:  6\n"
     ]
    },
    {
     "name": "stdout",
     "output_type": "stream",
     "text": [
      "EXITING THE CONTACT BOOK\n"
     ]
    }
   ],
   "source": [
    "contacts = {}\n",
    "\n",
    "def add(name, phone, email, address):\n",
    "    contacts[name] = {'phone': phone, 'email': email, 'address': address}\n",
    "    print(f\"Contact '{name}' successfully added.\")\n",
    "\n",
    "def display():\n",
    "    if contacts:\n",
    "        print('\\nList of contacts:\\n')\n",
    "        for name, info in contacts.items():\n",
    "            print(f\"Name: {name}, Phone: {info['phone']}, Email: {info['email']}, Address: {info['address']}\")\n",
    "    else:\n",
    "        print(\"\\nNo contacts available.\\n\")\n",
    "\n",
    "def search(name):\n",
    "    if name in contacts:\n",
    "        info = contacts[name]\n",
    "        print(f\"\\nContact found:\\nName: {name}, Phone: {info['phone']}, Email: {info['email']}, Address: {info['address']}\")\n",
    "    else:\n",
    "        print(f\"\\nContact '{name}' not found.\")\n",
    "\n",
    "def update(name, phone=None, email=None, address=None):\n",
    "    if name in contacts:\n",
    "        if phone:\n",
    "            contacts[name]['phone'] = phone\n",
    "        if email:\n",
    "            contacts[name]['email'] = email\n",
    "        if address:\n",
    "            contacts[name]['address'] = address\n",
    "        print(f\"Contact '{name}' updated successfully.\")\n",
    "    else:\n",
    "        print(f\"Contact '{name}' not found.\")\n",
    "\n",
    "def delete(name):\n",
    "    if name in contacts:\n",
    "        del contacts[name]\n",
    "        print(f\"Contact '{name}' deleted successfully.\")\n",
    "    else:\n",
    "        print(f\"Contact '{name}' not found.\")\n",
    "\n",
    "def main():\n",
    "    while True:\n",
    "        print(\"-------MENU-------\")\n",
    "        print(\"1. ADD CONTACT\")\n",
    "        print(\"2. VIEW ALL CONTACTS\")\n",
    "        print(\"3. SEARCH CONTACT\")\n",
    "        print(\"4. UPDATE CONTACT\")\n",
    "        print(\"5. DELETE CONTACT\")\n",
    "        print(\"6. EXIT\\n\")\n",
    "\n",
    "        c = int(input(\"Enter your choice: \"))\n",
    "        if c == 1:\n",
    "            n = input(\"Enter name: \")\n",
    "            p = input(\"Enter phone number: \")\n",
    "            e = input(\"Enter email: \")\n",
    "            a = input(\"Enter address: \")\n",
    "            add(n, p, e, a)\n",
    "        elif c == 2:\n",
    "            display()\n",
    "        elif c == 3:\n",
    "            ele = input(\"Enter name: \")\n",
    "            search(ele)\n",
    "        elif c == 4:\n",
    "            name = input(\"Enter the name: \")\n",
    "            phone = input(\"Enter phone (press enter to skip): \")\n",
    "            email = input(\"Enter email (press enter to skip): \")\n",
    "            address = input(\"Enter address (press enter to skip): \")\n",
    "            update(name, phone if phone else None, email if email else None, address if address else None)\n",
    "        elif c == 5:\n",
    "            name = input(\"Enter name: \")\n",
    "            delete(name)\n",
    "        elif c == 6:\n",
    "            print(\"EXITING THE CONTACT BOOK\")\n",
    "            break\n",
    "        else:\n",
    "            print(\"Invalid choice, please enter a correct option.\")\n",
    "\n",
    "if __name__ == \"__main__\":\n",
    "    main()\n"
   ]
  },
  {
   "cell_type": "code",
   "execution_count": null,
   "id": "3bc78e26-4ea5-4f13-978f-331ba68c5e2f",
   "metadata": {},
   "outputs": [],
   "source": []
  }
 ],
 "metadata": {
  "kernelspec": {
   "display_name": "Python 3 (ipykernel)",
   "language": "python",
   "name": "python3"
  },
  "language_info": {
   "codemirror_mode": {
    "name": "ipython",
    "version": 3
   },
   "file_extension": ".py",
   "mimetype": "text/x-python",
   "name": "python",
   "nbconvert_exporter": "python",
   "pygments_lexer": "ipython3",
   "version": "3.12.6"
  }
 },
 "nbformat": 4,
 "nbformat_minor": 5
}
