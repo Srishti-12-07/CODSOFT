{
 "cells": [
  {
   "cell_type": "code",
   "execution_count": 7,
   "id": "82118307-7039-4eb8-adfd-e376f294c232",
   "metadata": {},
   "outputs": [
    {
     "name": "stdout",
     "output_type": "stream",
     "text": [
      "enter ROCK,PAPER,SCISSORS OR EXIT ROck\n"
     ]
    },
    {
     "name": "stdout",
     "output_type": "stream",
     "text": [
      "\n",
      " You chose :rock\n",
      "Computer choice:rock\n",
      "RESULT:TIE!\n",
      "\n",
      "Current score - YOU:0,COMPUTER:0\n",
      "\n"
     ]
    },
    {
     "name": "stdout",
     "output_type": "stream",
     "text": [
      "enter ROCK,PAPER,SCISSORS OR EXIT rock\n"
     ]
    },
    {
     "name": "stdout",
     "output_type": "stream",
     "text": [
      "\n",
      " You chose :rock\n",
      "Computer choice:rock\n",
      "RESULT:TIE!\n",
      "\n",
      "Current score - YOU:0,COMPUTER:0\n",
      "\n"
     ]
    },
    {
     "name": "stdout",
     "output_type": "stream",
     "text": [
      "enter ROCK,PAPER,SCISSORS OR EXIT rock\n"
     ]
    },
    {
     "name": "stdout",
     "output_type": "stream",
     "text": [
      "\n",
      " You chose :rock\n",
      "Computer choice:paper\n",
      "RESULT:COMPUTER WINS!\n",
      "\n",
      "Current score - YOU:0,COMPUTER:1\n",
      "\n"
     ]
    },
    {
     "name": "stdout",
     "output_type": "stream",
     "text": [
      "enter ROCK,PAPER,SCISSORS OR EXIT paper\n"
     ]
    },
    {
     "name": "stdout",
     "output_type": "stream",
     "text": [
      "\n",
      " You chose :paper\n",
      "Computer choice:paper\n",
      "RESULT:TIE!\n",
      "\n",
      "Current score - YOU:0,COMPUTER:1\n",
      "\n"
     ]
    },
    {
     "name": "stdout",
     "output_type": "stream",
     "text": [
      "enter ROCK,PAPER,SCISSORS OR EXIT rock\n"
     ]
    },
    {
     "name": "stdout",
     "output_type": "stream",
     "text": [
      "\n",
      " You chose :rock\n",
      "Computer choice:rock\n",
      "RESULT:TIE!\n",
      "\n",
      "Current score - YOU:0,COMPUTER:1\n",
      "\n"
     ]
    },
    {
     "name": "stdout",
     "output_type": "stream",
     "text": [
      "enter ROCK,PAPER,SCISSORS OR EXIT scissors\n"
     ]
    },
    {
     "name": "stdout",
     "output_type": "stream",
     "text": [
      "\n",
      " You chose :scissors\n",
      "Computer choice:scissors\n",
      "RESULT:TIE!\n",
      "\n",
      "Current score - YOU:0,COMPUTER:1\n",
      "\n"
     ]
    },
    {
     "name": "stdout",
     "output_type": "stream",
     "text": [
      "enter ROCK,PAPER,SCISSORS OR EXIT rock\n"
     ]
    },
    {
     "name": "stdout",
     "output_type": "stream",
     "text": [
      "\n",
      " You chose :rock\n",
      "Computer choice:paper\n",
      "RESULT:COMPUTER WINS!\n",
      "\n",
      "Current score - YOU:0,COMPUTER:2\n",
      "\n"
     ]
    },
    {
     "name": "stdout",
     "output_type": "stream",
     "text": [
      "enter ROCK,PAPER,SCISSORS OR EXIT rock\n"
     ]
    },
    {
     "name": "stdout",
     "output_type": "stream",
     "text": [
      "\n",
      " You chose :rock\n",
      "Computer choice:rock\n",
      "RESULT:TIE!\n",
      "\n",
      "Current score - YOU:0,COMPUTER:2\n",
      "\n"
     ]
    },
    {
     "name": "stdout",
     "output_type": "stream",
     "text": [
      "enter ROCK,PAPER,SCISSORS OR EXIT scissors\n"
     ]
    },
    {
     "name": "stdout",
     "output_type": "stream",
     "text": [
      "\n",
      " You chose :scissors\n",
      "Computer choice:rock\n",
      "RESULT:COMPUTER WINS!\n",
      "\n",
      "Current score - YOU:0,COMPUTER:3\n",
      "\n"
     ]
    },
    {
     "name": "stdout",
     "output_type": "stream",
     "text": [
      "enter ROCK,PAPER,SCISSORS OR EXIT rock\n"
     ]
    },
    {
     "name": "stdout",
     "output_type": "stream",
     "text": [
      "\n",
      " You chose :rock\n",
      "Computer choice:rock\n",
      "RESULT:TIE!\n",
      "\n",
      "Current score - YOU:0,COMPUTER:3\n",
      "\n"
     ]
    },
    {
     "name": "stdout",
     "output_type": "stream",
     "text": [
      "enter ROCK,PAPER,SCISSORS OR EXIT paper\n"
     ]
    },
    {
     "name": "stdout",
     "output_type": "stream",
     "text": [
      "\n",
      " You chose :paper\n",
      "Computer choice:rock\n",
      "RESULT:YOU WIN!!\n",
      "\n",
      "Current score - YOU:1,COMPUTER:3\n",
      "\n"
     ]
    },
    {
     "name": "stdout",
     "output_type": "stream",
     "text": [
      "enter ROCK,PAPER,SCISSORS OR EXIT paper\n"
     ]
    },
    {
     "name": "stdout",
     "output_type": "stream",
     "text": [
      "\n",
      " You chose :paper\n",
      "Computer choice:rock\n",
      "RESULT:YOU WIN!!\n",
      "\n",
      "Current score - YOU:2,COMPUTER:3\n",
      "\n"
     ]
    },
    {
     "name": "stdout",
     "output_type": "stream",
     "text": [
      "enter ROCK,PAPER,SCISSORS OR EXIT rock\n"
     ]
    },
    {
     "name": "stdout",
     "output_type": "stream",
     "text": [
      "\n",
      " You chose :rock\n",
      "Computer choice:paper\n",
      "RESULT:COMPUTER WINS!\n",
      "\n",
      "Current score - YOU:2,COMPUTER:4\n",
      "\n"
     ]
    },
    {
     "name": "stdout",
     "output_type": "stream",
     "text": [
      "enter ROCK,PAPER,SCISSORS OR EXIT exit\n"
     ]
    },
    {
     "name": "stdout",
     "output_type": "stream",
     "text": [
      "GAME OVER\n",
      "SCORE -YOU:2,COMPUTER:4\n"
     ]
    }
   ],
   "source": [
    "import random\n",
    "\n",
    "def getchoice():\n",
    "    c=['rock','paper','scissors']\n",
    "    return random.choice(c)\n",
    "def winner(uc,cc):\n",
    "    if uc==cc:\n",
    "        return \"TIE!\"\n",
    "    elif (uc=='rock' and cc=='scissors')or(uc=='scissors'and cc=='paper')or(uc=='paper' and cc=='rock'):\n",
    "        return 'YOU WIN!!'\n",
    "    else:\n",
    "        return \"COMPUTER WINS!\"\n",
    "def play():\n",
    "    us=0\n",
    "    cs=0\n",
    "    while True:\n",
    "        uc=input('enter ROCK,PAPER,SCISSORS OR EXIT').lower()\n",
    "        if uc=='exit':\n",
    "            print(\"GAME OVER\")\n",
    "            print(f\"SCORE -YOU:{us},COMPUTER:{cs}\")\n",
    "            break\n",
    "        if uc not in ['rock','paper','scissors']:\n",
    "            print(\"Invalid choice\")\n",
    "            continue\n",
    "        cc=getchoice()\n",
    "        print(f\"\\n You chose :{uc}\")\n",
    "        print(f\"Computer choice:{cc}\")\n",
    "        res=winner(uc,cc)\n",
    "        print(f\"RESULT:{res}\\n\")\n",
    "        if res==\"YOU WIN!!\":\n",
    "            us+=1\n",
    "        elif res==\"COMPUTER WINS!\":\n",
    "            cs+=1\n",
    "        print(f\"Current score - YOU:{us},COMPUTER:{cs}\\n\")\n",
    "play()"
   ]
  },
  {
   "cell_type": "code",
   "execution_count": null,
   "id": "30fac70a-c48c-476c-8f47-03653d2b4bfb",
   "metadata": {},
   "outputs": [],
   "source": []
  }
 ],
 "metadata": {
  "kernelspec": {
   "display_name": "Python 3 (ipykernel)",
   "language": "python",
   "name": "python3"
  },
  "language_info": {
   "codemirror_mode": {
    "name": "ipython",
    "version": 3
   },
   "file_extension": ".py",
   "mimetype": "text/x-python",
   "name": "python",
   "nbconvert_exporter": "python",
   "pygments_lexer": "ipython3",
   "version": "3.12.6"
  }
 },
 "nbformat": 4,
 "nbformat_minor": 5
}
