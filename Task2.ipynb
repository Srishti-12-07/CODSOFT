{
 "cells": [
  {
   "cell_type": "code",
   "execution_count": 2,
   "id": "830b47c4-6a2d-492a-b13c-c167d1cda8cf",
   "metadata": {},
   "outputs": [
    {
     "name": "stdout",
     "output_type": "stream",
     "text": [
      "--------SIMPLE CALCULATOR---------\n",
      "-----------MENU---------------\n",
      "1.ADDITION\n",
      "2.SUBTRACTION\n",
      "3.MULTIPLICATION\n",
      "4.DIVISION\n",
      "5.REMAINDER\n",
      "6.EXIT\n",
      "\n"
     ]
    },
    {
     "name": "stdin",
     "output_type": "stream",
     "text": [
      "Enter choice 1\n",
      "Enter number 10\n",
      "Enter number 20\n"
     ]
    },
    {
     "name": "stdout",
     "output_type": "stream",
     "text": [
      "SUM OF TWO NUMBERS IS: 30\n"
     ]
    },
    {
     "name": "stdin",
     "output_type": "stream",
     "text": [
      "Enter choice 2\n",
      "Enter number 50\n",
      "Enter number 20\n"
     ]
    },
    {
     "name": "stdout",
     "output_type": "stream",
     "text": [
      "DIFFERENCE OF TWO NUMBERS IS: 30\n"
     ]
    },
    {
     "name": "stdin",
     "output_type": "stream",
     "text": [
      "Enter choice 3\n",
      "Enter number 10\n",
      "Enter number 20\n"
     ]
    },
    {
     "name": "stdout",
     "output_type": "stream",
     "text": [
      "PRODUCT OF TWO NUMBERS IS: 200\n"
     ]
    },
    {
     "name": "stdin",
     "output_type": "stream",
     "text": [
      "Enter choice 4\n",
      "Enter number 20\n",
      "Enter number 4\n"
     ]
    },
    {
     "name": "stdout",
     "output_type": "stream",
     "text": [
      "THE QUOTIENT OF TWO NUMBERS IS: 5.0\n"
     ]
    },
    {
     "name": "stdin",
     "output_type": "stream",
     "text": [
      "Enter choice 5\n",
      "Enter number 23\n",
      "Enter number 2\n"
     ]
    },
    {
     "name": "stdout",
     "output_type": "stream",
     "text": [
      "THE REMAINDER OF TWO NUMBERS IS: 1\n"
     ]
    },
    {
     "name": "stdin",
     "output_type": "stream",
     "text": [
      "Enter choice 6\n"
     ]
    },
    {
     "name": "stdout",
     "output_type": "stream",
     "text": [
      "EXITING FROM CALCULATOR\n",
      "\n"
     ]
    }
   ],
   "source": [
    "print(\"--------SIMPLE CALCULATOR---------\")\n",
    "print(\"-----------MENU---------------\")\n",
    "print(\"1.ADDITION\\n2.SUBTRACTION\\n3.MULTIPLICATION\\n4.DIVISION\\n5.REMAINDER\\n6.EXIT\\n\")\n",
    "\n",
    "while True:\n",
    "    c=int(input(\"Enter choice\"))\n",
    "    if c==6:\n",
    "        print(\"EXITING FROM CALCULATOR\\n\")\n",
    "        break\n",
    "    a=int(input(\"Enter number\"))\n",
    "    b=int(input(\"Enter number\"))\n",
    "    if c==1:\n",
    "        add=a+b\n",
    "        print(\"SUM OF TWO NUMBERS IS:\",add)\n",
    "    elif c==2:\n",
    "        sub=a-b\n",
    "        print(\"DIFFERENCE OF TWO NUMBERS IS:\",sub)\n",
    "    elif c==3:\n",
    "        mul=a*b\n",
    "        print(\"PRODUCT OF TWO NUMBERS IS:\",mul)\n",
    "    elif c==4:\n",
    "        if b==0:\n",
    "            print(\"Divide by ZERO ERROR\")\n",
    "        else:\n",
    "            div=a/b\n",
    "            print(\"THE QUOTIENT OF TWO NUMBERS IS:\",div)\n",
    "    elif c==5:\n",
    "        if b==0:\n",
    "            print(\"Divide by ZERO ERROR\")\n",
    "        else:\n",
    "            mod=a%b\n",
    "            print(\"THE REMAINDER OF TWO NUMBERS IS:\",mod)\n",
    "    else:\n",
    "        print(\"Enter a valid number\")\n",
    "\n",
    "       \n",
    "\n",
    "\n",
    "\n",
    "\n",
    "    "
   ]
  },
  {
   "cell_type": "code",
   "execution_count": null,
   "id": "21f9acaa-dbce-49e4-af6e-88286ca0f2c8",
   "metadata": {},
   "outputs": [],
   "source": []
  }
 ],
 "metadata": {
  "kernelspec": {
   "display_name": "Python 3 (ipykernel)",
   "language": "python",
   "name": "python3"
  },
  "language_info": {
   "codemirror_mode": {
    "name": "ipython",
    "version": 3
   },
   "file_extension": ".py",
   "mimetype": "text/x-python",
   "name": "python",
   "nbconvert_exporter": "python",
   "pygments_lexer": "ipython3",
   "version": "3.12.6"
  }
 },
 "nbformat": 4,
 "nbformat_minor": 5
}
